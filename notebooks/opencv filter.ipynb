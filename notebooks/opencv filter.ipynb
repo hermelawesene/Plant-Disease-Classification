{
 "cells": [
  {
   "cell_type": "code",
   "execution_count": 4,
   "id": "e9ac632d",
   "metadata": {},
   "outputs": [],
   "source": [
    "import sys\n",
    "import os\n",
    "sys.path.append(os.path.join(os.path.abspath('..')))"
   ]
  },
  {
   "cell_type": "code",
   "execution_count": 2,
   "id": "fce06950",
   "metadata": {},
   "outputs": [],
   "source": [
    "import cv2\n",
    "import numpy as np\n",
    "\n",
    "\n",
    "# 1. Leaf Detection Function (OpenCV)\n",
    "def is_leaf(image: np.ndarray) -> bool:\n",
    "    # Step A: Color thresholding (HSV green detection)\n",
    "    hsv = cv2.cvtColor(image, cv2.COLOR_BGR2HSV)\n",
    "    lower_green = np.array([25, 40, 40])\n",
    "    upper_green = np.array([90, 255, 255])\n",
    "    mask = cv2.inRange(hsv, lower_green, upper_green)\n",
    "    \n",
    "    # Step B: Contour analysis\n",
    "    contours, _ = cv2.findContours(mask, cv2.RETR_EXTERNAL, cv2.CHAIN_APPROX_SIMPLE)\n",
    "    if not contours:\n",
    "        return False\n",
    "    \n",
    "    # Step C: Shape validation (leaf-like characteristics)\n",
    "    largest_contour = max(contours, key=cv2.contourArea)\n",
    "    area = cv2.contourArea(largest_contour)\n",
    "    hull = cv2.convexHull(largest_contour)\n",
    "    hull_area = cv2.contourArea(hull)\n",
    "    \n",
    "    # Solidity = contour_area / convex_hull_area (leaf = irregular shape)\n",
    "    solidity = float(area) / hull_area if hull_area > 0 else 0\n",
    "    return (area > 5000) and (0.7 < solidity < 0.95) "
   ]
  },
  {
   "cell_type": "code",
   "execution_count": 8,
   "id": "e8422784",
   "metadata": {},
   "outputs": [
    {
     "name": "stdout",
     "output_type": "stream",
     "text": [
      "Is it a leaf? False\n"
     ]
    }
   ],
   "source": [
    "# Load image using OpenCV (BGR format)\n",
    "image = cv2.imread(\"../image/im2.webp\")\n",
    "\n",
    "# Check if image loaded correctly\n",
    "if image is None:\n",
    "    raise ValueError(\"Could not load image.\")\n",
    "\n",
    "# Apply your OpenCV leaf filter\n",
    "result = is_leaf(image)\n",
    "\n",
    "print(\"Is it a leaf?\", result)\n"
   ]
  }
 ],
 "metadata": {
  "kernelspec": {
   "display_name": ".venv",
   "language": "python",
   "name": "python3"
  },
  "language_info": {
   "codemirror_mode": {
    "name": "ipython",
    "version": 3
   },
   "file_extension": ".py",
   "mimetype": "text/x-python",
   "name": "python",
   "nbconvert_exporter": "python",
   "pygments_lexer": "ipython3",
   "version": "3.12.5"
  }
 },
 "nbformat": 4,
 "nbformat_minor": 5
}
