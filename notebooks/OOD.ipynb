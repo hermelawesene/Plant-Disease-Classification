{
 "cells": [
  {
   "cell_type": "code",
   "execution_count": 2,
   "id": "b50af79f",
   "metadata": {},
   "outputs": [
    {
     "name": "stderr",
     "output_type": "stream",
     "text": [
      "c:\\Users\\HP\\Documents\\Plant-Disease-CLassification\\.venv\\Lib\\site-packages\\tqdm\\auto.py:21: TqdmWarning: IProgress not found. Please update jupyter and ipywidgets. See https://ipywidgets.readthedocs.io/en/stable/user_install.html\n",
      "  from .autonotebook import tqdm as notebook_tqdm\n"
     ]
    },
    {
     "ename": "ModuleNotFoundError",
     "evalue": "No module named 'scipy'",
     "output_type": "error",
     "traceback": [
      "\u001b[31m---------------------------------------------------------------------------\u001b[39m",
      "\u001b[31mModuleNotFoundError\u001b[39m                       Traceback (most recent call last)",
      "\u001b[36mCell\u001b[39m\u001b[36m \u001b[39m\u001b[32mIn[2]\u001b[39m\u001b[32m, line 5\u001b[39m\n\u001b[32m      3\u001b[39m \u001b[38;5;28;01mfrom\u001b[39;00m\u001b[38;5;250m \u001b[39m\u001b[34;01mpathlib\u001b[39;00m\u001b[38;5;250m \u001b[39m\u001b[38;5;28;01mimport\u001b[39;00m Path\n\u001b[32m      4\u001b[39m \u001b[38;5;28;01mimport\u001b[39;00m\u001b[38;5;250m \u001b[39m\u001b[34;01mkagglehub\u001b[39;00m\n\u001b[32m----> \u001b[39m\u001b[32m5\u001b[39m \u001b[38;5;28;01mfrom\u001b[39;00m\u001b[38;5;250m \u001b[39m\u001b[34;01mscipy\u001b[39;00m\u001b[34;01m.\u001b[39;00m\u001b[34;01mspatial\u001b[39;00m\u001b[38;5;250m \u001b[39m\u001b[38;5;28;01mimport\u001b[39;00m distance\n\u001b[32m      7\u001b[39m \u001b[38;5;66;03m# Function to partition dataset\u001b[39;00m\n\u001b[32m      8\u001b[39m \u001b[38;5;28;01mdef\u001b[39;00m\u001b[38;5;250m \u001b[39m\u001b[34mget_dataset_partitions_tf\u001b[39m(ds, train_split=\u001b[32m0.8\u001b[39m, val_split=\u001b[32m0.1\u001b[39m, test_split=\u001b[32m0.1\u001b[39m, shuffle=\u001b[38;5;28;01mTrue\u001b[39;00m, shuffle_size=\u001b[32m10000\u001b[39m):\n",
      "\u001b[31mModuleNotFoundError\u001b[39m: No module named 'scipy'"
     ]
    }
   ],
   "source": [
    "import tensorflow as tf\n",
    "import numpy as np\n",
    "from pathlib import Path\n",
    "import kagglehub\n",
    "from scipy.spatial import distance\n",
    "\n",
    "# Function to partition dataset\n",
    "def get_dataset_partitions_tf(ds, train_split=0.8, val_split=0.1, test_split=0.1, shuffle=True, shuffle_size=10000):\n",
    "    assert (train_split + test_split + val_split) == 1\n",
    "    ds_size = len(ds)\n",
    "    if shuffle:\n",
    "        ds = ds.shuffle(shuffle_size, seed=12)\n",
    "    train_size = int(train_split * ds_size)\n",
    "    val_size = int(val_split * ds_size)\n",
    "    train_ds = ds.take(train_size)\n",
    "    val_ds = ds.skip(train_size).take(val_size)\n",
    "    test_ds = ds.skip(train_size).skip(val_size)\n",
    "    return train_ds, val_ds, test_ds\n",
    "\n",
    "# Load dataset\n",
    "path = kagglehub.dataset_download(\"emmarex/plantdisease\")\n",
    "base_path = Path(path) / \"PlantVillage\"\n",
    "tomato_folders = [f for f in os.listdir(base_path) if f.startswith(\"Tomato\")]\n",
    "\n",
    "dataset = tf.keras.utils.image_dataset_from_directory(\n",
    "    base_path,\n",
    "    seed=123,\n",
    "    shuffle=True,\n",
    "    image_size=(256, 256),\n",
    "    batch_size=32,\n",
    "    class_names=tomato_folders\n",
    ")\n",
    "\n",
    "_, val_ds, _ = get_dataset_partitions_tf(dataset, train_split=0.8, val_split=0.1, test_split=0.1)\n",
    "\n",
    "# Load model and build it\n",
    "MODEL_PATH = \"models/tomato_main.keras\"\n",
    "disease_model = tf.keras.models.load_model(MODEL_PATH)\n",
    "# Build the model with a dummy input to define input/output\n",
    "disease_model.build(input_shape=(None, 256, 256, 3))  # Match your image size and channels\n",
    "\n",
    "# Feature extractor (before the last Dense layer)\n",
    "feature_extractor = tf.keras.Model(\n",
    "    inputs=disease_model.input,\n",
    "    outputs=disease_model.layers[-2].output  # Before the final Dense\n",
    ")\n",
    "\n",
    "# Collect features and MSP\n",
    "features = []\n",
    "msp_values = []\n",
    "for images, _ in val_ds:\n",
    "    preds = disease_model.predict(images)\n",
    "    features.append(feature_extractor.predict(images))\n",
    "    msp_values.extend(np.max(preds, axis=1))\n",
    "\n",
    "features = np.concatenate(features, axis=0)\n",
    "msp_values = np.array(msp_values)\n",
    "\n",
    "# Compute mean and covariance for Mahalanobis\n",
    "mean_feature = np.mean(features, axis=0)\n",
    "cov_feature = np.cov(features.T)\n",
    "\n",
    "# Set thresholds (e.g., 5th percentile for MSP, 95th for Mahalanobis)\n",
    "msp_threshold = np.percentile(msp_values, 5)  # Low MSP indicates OOD\n",
    "mahala_distances = [distance.mahalanobis(f, mean_feature, np.linalg.inv(cov_feature)) for f in features]\n",
    "mahala_threshold = np.percentile(mahala_distances, 95)  # High distance indicates OOD\n",
    "\n",
    "# Save statistics\n",
    "os.makedirs(\"models\", exist_ok=True)\n",
    "np.save(\"models/msp_threshold.npy\", msp_threshold)\n",
    "np.save(\"models/mahala_threshold.npy\", mahala_threshold)\n",
    "np.save(\"models/mean_feature.npy\", mean_feature)\n",
    "np.save(\"models/cov_feature.npy\", cov_feature)\n",
    "\n",
    "print(f\"MSP Threshold: {msp_threshold}\")\n",
    "print(f\"Mahalanobis Threshold: {mahala_threshold}\")"
   ]
  },
  {
   "cell_type": "code",
   "execution_count": null,
   "id": "ab0bc670",
   "metadata": {},
   "outputs": [],
   "source": []
  }
 ],
 "metadata": {
  "kernelspec": {
   "display_name": ".venv",
   "language": "python",
   "name": "python3"
  },
  "language_info": {
   "codemirror_mode": {
    "name": "ipython",
    "version": 3
   },
   "file_extension": ".py",
   "mimetype": "text/x-python",
   "name": "python",
   "nbconvert_exporter": "python",
   "pygments_lexer": "ipython3",
   "version": "3.12.5"
  }
 },
 "nbformat": 4,
 "nbformat_minor": 5
}
