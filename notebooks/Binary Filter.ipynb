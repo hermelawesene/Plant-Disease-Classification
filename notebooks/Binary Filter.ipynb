{
 "cells": [
  {
   "cell_type": "code",
   "execution_count": 1,
   "id": "4d2e1b67",
   "metadata": {},
   "outputs": [],
   "source": [
    "import sys\n",
    "import os\n",
    "sys.path.append(os.path.join(os.path.abspath('..')))"
   ]
  },
  {
   "cell_type": "code",
   "execution_count": 11,
   "id": "2e03a179",
   "metadata": {},
   "outputs": [],
   "source": [
    "import tensorflow as tf\n",
    "import numpy as np\n",
    "from tensorflow.keras.preprocessing import image\n",
    "\n",
    "# Correct relative paths based on your folder structure\n",
    "leaf_filter = tf.keras.models.load_model(\"../models/leaf_filter_model (1).keras\")\n",
    "disease_model = tf.keras.models.load_model(\"../models/tomato.keras\")\n",
    "\n",
    "# Helper: preprocess input\n",
    "def preprocess_image(img_path, target_size=224):\n",
    "    img = image.load_img(img_path, target_size=(target_size, target_size))\n",
    "    img_array = image.img_to_array(img)\n",
    "    img_array = img_array / 255.0  # Normalize\n",
    "    return np.expand_dims(img_array, axis=0)\n",
    "\n",
    "# Helper: filter + classify\n",
    "def predict_pipeline(img_path):\n",
    "    img = preprocess_image(img_path)\n",
    "\n",
    "    # Step 1: Use binary classifier\n",
    "    pred = leaf_filter.predict(img)[0][0]\n",
    "    if pred < 0.5:\n",
    "        return \"Not a leaf — skipping disease classification\"\n",
    "\n",
    "    # Step 2: Run disease classification\n",
    "    disease_pred = disease_model.predict(img)\n",
    "    class_idx = np.argmax(disease_pred)\n",
    "    return f\"Leaf detected. Predicted disease class: {class_idx}\"\n"
   ]
  },
  {
   "cell_type": "code",
   "execution_count": 3,
   "id": "a8154d77",
   "metadata": {},
   "outputs": [
    {
     "name": "stdout",
     "output_type": "stream",
     "text": [
      "['Binary Filter.ipynb', 'Tomato_disease_classification.ipynb']\n"
     ]
    }
   ],
   "source": [
    "import os\n",
    "print(os.listdir())\n"
   ]
  },
  {
   "cell_type": "code",
   "execution_count": 12,
   "id": "41d434f9",
   "metadata": {},
   "outputs": [],
   "source": [
    "import tensorflow as tf\n",
    "import numpy as np\n",
    "from tensorflow.keras.preprocessing import image\n",
    "\n",
    "# Load the trained binary model\n",
    "#leaf_filter = tf.keras.models.load_model(\"leaf_filter_model.h5\")\n",
    "\n",
    "# Inference function\n",
    "def check_if_leaf(img_path):\n",
    "    # Step 1: Load and preprocess image\n",
    "    img = image.load_img(img_path, target_size=(224, 224))\n",
    "    img_array = image.img_to_array(img)\n",
    "    img_array = img_array / 255.0  # Normalize to [0, 1]\n",
    "    img_array = np.expand_dims(img_array, axis=0)  # Add batch dimension\n",
    "\n",
    "    # Step 2: Predict using leaf filter model\n",
    "    prediction = leaf_filter.predict(img_array)[0][0]\n",
    "    print(f\"Prediction score: {prediction:.4f}\")\n",
    "    \n",
    "    if prediction >= 0.3:\n",
    "        return \"leaf\"\n",
    "    else:\n",
    "        return \"not_leaf\"\n"
   ]
  },
  {
   "cell_type": "code",
   "execution_count": 13,
   "id": "01f898e1",
   "metadata": {},
   "outputs": [
    {
     "name": "stdout",
     "output_type": "stream",
     "text": [
      "\u001b[1m1/1\u001b[0m \u001b[32m━━━━━━━━━━━━━━━━━━━━\u001b[0m\u001b[37m\u001b[0m \u001b[1m1s\u001b[0m 503ms/step\n",
      "Prediction score: 1.0000\n",
      "Result: leaf\n"
     ]
    }
   ],
   "source": [
    "result = check_if_leaf(\"../image/im4.webp\")\n",
    "print(\"Result:\", result)"
   ]
  },
  {
   "cell_type": "code",
   "execution_count": 7,
   "id": "a77de2a4",
   "metadata": {},
   "outputs": [],
   "source": [
    "from PIL import Image\n",
    "\n",
    "# Just verify that PIL works now\n",
    "img = Image.open(\"../image/im2.webp\")\n",
    "img.show()"
   ]
  },
  {
   "cell_type": "code",
   "execution_count": null,
   "id": "3813df5c",
   "metadata": {},
   "outputs": [],
   "source": []
  }
 ],
 "metadata": {
  "kernelspec": {
   "display_name": ".venv",
   "language": "python",
   "name": "python3"
  },
  "language_info": {
   "codemirror_mode": {
    "name": "ipython",
    "version": 3
   },
   "file_extension": ".py",
   "mimetype": "text/x-python",
   "name": "python",
   "nbconvert_exporter": "python",
   "pygments_lexer": "ipython3",
   "version": "3.12.5"
  }
 },
 "nbformat": 4,
 "nbformat_minor": 5
}
